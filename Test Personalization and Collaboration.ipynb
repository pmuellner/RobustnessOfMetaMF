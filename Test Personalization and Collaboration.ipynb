{
 "cells": [
  {
   "cell_type": "code",
   "execution_count": 32,
   "metadata": {},
   "outputs": [],
   "source": [
    "import random\n",
    "import numpy as np\n",
    "import torch\n",
    "import pandas as pd\n",
    "from sklearn.manifold import TSNE\n",
    "from sklearn.preprocessing import StandardScaler\n",
    "import matplotlib.pyplot as plt"
   ]
  },
  {
   "cell_type": "code",
   "execution_count": 4,
   "metadata": {},
   "outputs": [],
   "source": [
    "random.seed(1)\n",
    "np.random.seed(1)\n",
    "torch.manual_seed(1) #set random seed for cpu\n",
    "torch.cuda.manual_seed(1) #set random seed for current gpu\n",
    "torch.cuda.manual_seed_all(1) #set random seed for all gpus"
   ]
  },
  {
   "cell_type": "code",
   "execution_count": 5,
   "metadata": {},
   "outputs": [
    {
     "name": "stdout",
     "output_type": "stream",
     "text": [
      "CUDA available? True\n",
      "Current device: 7\n"
     ]
    }
   ],
   "source": [
    "if torch.cuda.is_available():\n",
    "    use_cuda = True\n",
    "    torch.cuda.set_device(7)\n",
    "else:\n",
    "    use_cuda = False\n",
    "print(\"CUDA available? \" + str(use_cuda))\n",
    "if use_cuda:\n",
    "    print(\"Current device: %d\" % torch.cuda.current_device())"
   ]
  },
  {
   "cell_type": "markdown",
   "metadata": {},
   "source": [
    "# Helper Functions"
   ]
  },
  {
   "cell_type": "code",
   "execution_count": 8,
   "metadata": {},
   "outputs": [],
   "source": [
    "def read_useranditemlist(path):\n",
    "    userlist = pd.read_csv(path + \".userlist\", header=None, squeeze=True).values.tolist()\n",
    "    itemlist = pd.read_csv(path + \".itemlist\", header=None, squeeze=True).values.tolist()\n",
    "    \n",
    "    return userlist, itemlist"
   ]
  },
  {
   "cell_type": "code",
   "execution_count": 26,
   "metadata": {},
   "outputs": [],
   "source": [
    "def reduce_dimensions(data, dim=2):\n",
    "    tsne = TSNE(n_components=dim)\n",
    "    latent = tsne.fit_transform(data)\n",
    "    latent = StandardScaler().fit_transform(latent)\n",
    "    \n",
    "    return latent"
   ]
  },
  {
   "cell_type": "code",
   "execution_count": 29,
   "metadata": {},
   "outputs": [],
   "source": [
    "def plotting(path, data, save_as=False):\n",
    "    plt.figure()\n",
    "    plt.scatter(data[:, 0], data[:, 1], s=1)\n",
    "    plt.xlabel(r\"Latent dimension $x$\")\n",
    "    plt.ylabel(r\"Latent dimension $y$\")\n",
    "    plt.ylim([-2.5, 2.5])\n",
    "    plt.xlim([-2.5, 2.5])\n",
    "    plt.tight_layout()\n",
    "    if save_as:\n",
    "        plt.savefig(path + \"/\" + save_as, dpi=300)"
   ]
  },
  {
   "cell_type": "code",
   "execution_count": 16,
   "metadata": {},
   "outputs": [],
   "source": [
    "def get_item_embedding(path_to_model, users, item_id):\n",
    "    location = \"cuda:\" + str(torch.cuda.current_device())\n",
    "    net = torch.load(path_to_model, map_location=location)\n",
    "    \n",
    "    params = net.state_dict()\n",
    "    U = params[\"metarecommender.user_embedding.weight\"]\n",
    "    M = params[\"metarecommender.memory\"]\n",
    "    \n",
    "    item_embeddings = []\n",
    "    for uid in users:\n",
    "        # get the collaborative vector c_u of every user u and generate the item embedding\n",
    "        c_u = torch.matmul(U[uid], M)\n",
    "\n",
    "        hidden_layer = net.metarecommender.hidden_layer_3\n",
    "        embedding_layer1 = net.metarecommender.emb_layer_1\n",
    "        embedding_layer2 = net.metarecommender.emb_layer_2\n",
    "        item_num = net.metarecommender.item_num\n",
    "        item_mem_num = net.metarecommender.item_mem_num\n",
    "        item_emb_size = net.metarecommender.item_emb_size\n",
    "        item_embedding_u = net.metarecommender.get_item_embedding(hidden_layer, embedding_layer1, embedding_layer2, c_u, item_num, item_mem_num, item_emb_size)[0, :, :].detach().cpu().numpy()\n",
    "        \n",
    "        item_embeddings.append(item_embedding_u)\n",
    "        \n",
    "    item_embeddings = np.swapaxes(np.array(item_embeddings), 0, 1)\n",
    "    return item_embeddings[item_id]"
   ]
  },
  {
   "cell_type": "code",
   "execution_count": 1,
   "metadata": {},
   "outputs": [],
   "source": [
    "def get_weights(path_to_model, users):\n",
    "    location = \"cuda:\" + str(torch.cuda.current_device())\n",
    "    net = torch.load(path_to_model, map_location=location)\n",
    "    \n",
    "    params = net.state_dict()\n",
    "    U = params[\"metarecommender.user_embedding.weight\"]\n",
    "    M = params[\"metarecommender.memory\"]\n",
    "    \n",
    "    hidden_weights1, hidden_weights2 = [], []\n",
    "    for uid in userlist:\n",
    "        # get the collaborative vector c_u of every user u and generate the weights of the rating prediction model\n",
    "        c_u = torch.matmul(U[uid], M)\n",
    "        hidden_layer_1 = net.metarecommender.hidden_layer_1\n",
    "        weight_layer_1 = net.metarecommender.weight_layer_1\n",
    "        bias_layer_1 = net.metarecommender.bias_layer_1\n",
    "        hidden_layer_2 = net.metarecommender.hidden_layer_2\n",
    "        weight_layer_2 = net.metarecommender.weight_layer_2\n",
    "        bias_layer_2 = net.metarecommender.bias_layer_2\n",
    "        item_emb_size = net.metarecommender.item_emb_size\n",
    "        \n",
    "        weights1, _ = net.metarecommender.get_one_layer(hidden_layer_1, weight_layer_1, bias_layer_1, c_u, item_emb_size, int(item_emb_size/4))\n",
    "        weights1 = weights1.reshape(1, -1)\n",
    "        \n",
    "        weights2, _ = net.metarecommender.get_one_layer(hidden_layer_2, weight_layer_2, bias_layer_2, c_u, int(item_emb_size / 4), 1)\n",
    "        weights2 = weights2.reshape(1, -1)\n",
    "        \n",
    "        hidden_weights1_u = weights1.detach().cpu().numpy()\n",
    "        hidden_weights2_u = weights2.detach().cpu().numpy()\n",
    "        hidden_weights1.append(hidden_weights1_u)\n",
    "        hidden_weights2.append(hidden_weights2_u)\n",
    "        \n",
    "    return np.array(hidden_weights1)[:, 0, :], np.array(hidden_weights2)[:, 0, :]"
   ]
  },
  {
   "cell_type": "code",
   "execution_count": 2,
   "metadata": {},
   "outputs": [
    {
     "ename": "NameError",
     "evalue": "name 'read_useranditemlist' is not defined",
     "output_type": "error",
     "traceback": [
      "\u001b[1;31m---------------------------------------------------------------------------\u001b[0m",
      "\u001b[1;31mNameError\u001b[0m                                 Traceback (most recent call last)",
      "\u001b[1;32m<ipython-input-2-eb58a9630ee3>\u001b[0m in \u001b[0;36m<module>\u001b[1;34m\u001b[0m\n\u001b[1;32m----> 1\u001b[1;33m \u001b[0muserlist\u001b[0m\u001b[1;33m,\u001b[0m \u001b[0mitemlist\u001b[0m \u001b[1;33m=\u001b[0m \u001b[0mread_useranditemlist\u001b[0m\u001b[1;33m(\u001b[0m\u001b[1;34m\"data/ml\"\u001b[0m\u001b[1;33m)\u001b[0m\u001b[1;33m\u001b[0m\u001b[1;33m\u001b[0m\u001b[0m\n\u001b[0m\u001b[0;32m      2\u001b[0m \u001b[0mitem_embedding\u001b[0m \u001b[1;33m=\u001b[0m \u001b[0mget_item_embedding\u001b[0m\u001b[1;33m(\u001b[0m\u001b[1;34m\"experiments/meta/ml/beta_10p.model\"\u001b[0m\u001b[1;33m,\u001b[0m \u001b[0muserlist\u001b[0m\u001b[1;33m,\u001b[0m \u001b[0mitem_id\u001b[0m\u001b[1;33m=\u001b[0m\u001b[1;36m482\u001b[0m\u001b[1;33m)\u001b[0m\u001b[1;33m\u001b[0m\u001b[1;33m\u001b[0m\u001b[0m\n\u001b[0;32m      3\u001b[0m \u001b[0mweights1\u001b[0m\u001b[1;33m,\u001b[0m \u001b[0mweights2\u001b[0m \u001b[1;33m=\u001b[0m \u001b[0mget_weights\u001b[0m\u001b[1;33m(\u001b[0m\u001b[1;34m\"experiments/meta/ml/beta_10p.model\"\u001b[0m\u001b[1;33m,\u001b[0m \u001b[0muserlist\u001b[0m\u001b[1;33m)\u001b[0m\u001b[1;33m\u001b[0m\u001b[1;33m\u001b[0m\u001b[0m\n\u001b[0;32m      4\u001b[0m \u001b[1;33m\u001b[0m\u001b[0m\n\u001b[0;32m      5\u001b[0m \u001b[0mplotting\u001b[0m\u001b[1;33m(\u001b[0m\u001b[1;34m\"experiments/meta/ml\"\u001b[0m\u001b[1;33m,\u001b[0m \u001b[0mreduce_dimensions\u001b[0m\u001b[1;33m(\u001b[0m\u001b[0mitem_embedding\u001b[0m\u001b[1;33m)\u001b[0m\u001b[1;33m,\u001b[0m \u001b[0msave_as\u001b[0m\u001b[1;33m=\u001b[0m\u001b[1;34m\"emb_10p\"\u001b[0m\u001b[1;33m)\u001b[0m\u001b[1;33m\u001b[0m\u001b[1;33m\u001b[0m\u001b[0m\n",
      "\u001b[1;31mNameError\u001b[0m: name 'read_useranditemlist' is not defined"
     ]
    }
   ],
   "source": [
    "userlist, itemlist = read_useranditemlist(\"data/ml\")\n",
    "item_embedding = get_item_embedding(\"experiments/meta/ml/beta_10p.model\", userlist, item_id=482)\n",
    "weights1, weights2 = get_weights(\"experiments/meta/ml/beta_10p.model\", userlist)\n",
    "\n",
    "plotting(\"experiments/meta/ml\", reduce_dimensions(item_embedding), save_as=\"emb_10p\")\n",
    "plotting(\"experiments/meta/ml\", reduce_dimensions(weights1), save_as=\"w1_10p\")\n",
    "plotting(\"experiments/meta/ml\", reduce_dimensions(weights2), save_as=\"w2_10p\")"
   ]
  },
  {
   "cell_type": "code",
   "execution_count": null,
   "metadata": {},
   "outputs": [],
   "source": []
  }
 ],
 "metadata": {
  "kernelspec": {
   "display_name": "Python 3",
   "language": "python",
   "name": "python3"
  },
  "language_info": {
   "codemirror_mode": {
    "name": "ipython",
    "version": 3
   },
   "file_extension": ".py",
   "mimetype": "text/x-python",
   "name": "python",
   "nbconvert_exporter": "python",
   "pygments_lexer": "ipython3",
   "version": "3.7.3"
  }
 },
 "nbformat": 4,
 "nbformat_minor": 4
}

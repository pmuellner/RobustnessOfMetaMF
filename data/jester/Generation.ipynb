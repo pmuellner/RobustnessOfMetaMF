{
 "cells": [
  {
   "cell_type": "code",
   "execution_count": 3,
   "metadata": {},
   "outputs": [],
   "source": [
    "import pandas as pd\n",
    "import numpy as np\n",
    "from sklearn.preprocessing import MinMaxScaler\n",
    "from sklearn.model_selection import train_test_split"
   ]
  },
  {
   "cell_type": "markdown",
   "metadata": {},
   "source": [
    "# Read Data"
   ]
  },
  {
   "cell_type": "code",
   "execution_count": 4,
   "metadata": {},
   "outputs": [],
   "source": [
    "df1 = pd.read_excel(\"jester-data-1.xls\", header=None)\n",
    "df1.drop(columns=[0], inplace=True)\n",
    "df1 = df1.stack().reset_index()\n",
    "df1.columns = [\"user_id\", \"item_id\", \"rating\"]\n",
    "\n",
    "df2 = pd.read_excel(\"jester-data-2.xls\", header=None)\n",
    "df2.drop(columns=[0], inplace=True)\n",
    "df2 = df2.stack().reset_index()\n",
    "df2.columns = [\"user_id\", \"item_id\", \"rating\"]\n",
    "\n",
    "df3 = pd.read_excel(\"jester-data-3.xls\", header=None)\n",
    "df3.drop(columns=[0], inplace=True)\n",
    "df3 = df3.stack().reset_index()\n",
    "df3.columns = [\"user_id\", \"item_id\", \"rating\"]"
   ]
  },
  {
   "cell_type": "markdown",
   "metadata": {},
   "source": [
    "# Construct Rating Data "
   ]
  },
  {
   "cell_type": "markdown",
   "metadata": {},
   "source": [
    "Merge all three parts together and assign distinct user ids and item ids. Discard all non-existent ratings (i.e., rating is equal to 99). Scale ratings to a range of (1, 5) to ensure comparability to other datasets."
   ]
  },
  {
   "cell_type": "code",
   "execution_count": 5,
   "metadata": {},
   "outputs": [],
   "source": [
    "n_users_1 = df1[\"user_id\"].nunique()\n",
    "n_users_2 = df2[\"user_id\"].nunique()\n",
    "n_users_3 = df3[\"user_id\"].nunique()\n",
    "\n",
    "user_mapping_1 = {b: a for a, b in enumerate(range(n_users_1))}\n",
    "user_mapping_2 = {b: a+n_users_1 for a, b in enumerate(range(n_users_2))}\n",
    "user_mapping_3 = {b: a+n_users_1+n_users_2 for a, b in enumerate(range(n_users_3))}\n",
    "\n",
    "df1[\"user_id\"] = df1[\"user_id\"].map(user_mapping_1)\n",
    "df2[\"user_id\"] = df2[\"user_id\"].map(user_mapping_2)\n",
    "df3[\"user_id\"] = df3[\"user_id\"].map(user_mapping_3)\n",
    "df = df1.append(df2).append(df3)\n",
    "\n",
    "df[\"item_id\"] = df[\"item_id\"].apply(lambda v: v-1)\n",
    "df.astype({\"user_id\": int, \"item_id\": int});"
   ]
  },
  {
   "cell_type": "code",
   "execution_count": 8,
   "metadata": {},
   "outputs": [
    {
     "data": {
      "text/html": [
       "<div>\n",
       "<style scoped>\n",
       "    .dataframe tbody tr th:only-of-type {\n",
       "        vertical-align: middle;\n",
       "    }\n",
       "\n",
       "    .dataframe tbody tr th {\n",
       "        vertical-align: top;\n",
       "    }\n",
       "\n",
       "    .dataframe thead th {\n",
       "        text-align: right;\n",
       "    }\n",
       "</style>\n",
       "<table border=\"1\" class=\"dataframe\">\n",
       "  <thead>\n",
       "    <tr style=\"text-align: right;\">\n",
       "      <th></th>\n",
       "      <th>user_id</th>\n",
       "      <th>item_id</th>\n",
       "      <th>rating</th>\n",
       "    </tr>\n",
       "  </thead>\n",
       "  <tbody>\n",
       "    <tr>\n",
       "      <th>0</th>\n",
       "      <td>0</td>\n",
       "      <td>0</td>\n",
       "      <td>1.427819</td>\n",
       "    </tr>\n",
       "    <tr>\n",
       "      <th>1</th>\n",
       "      <td>0</td>\n",
       "      <td>1</td>\n",
       "      <td>4.928346</td>\n",
       "    </tr>\n",
       "    <tr>\n",
       "      <th>2</th>\n",
       "      <td>0</td>\n",
       "      <td>2</td>\n",
       "      <td>1.040042</td>\n",
       "    </tr>\n",
       "    <tr>\n",
       "      <th>3</th>\n",
       "      <td>0</td>\n",
       "      <td>3</td>\n",
       "      <td>1.356164</td>\n",
       "    </tr>\n",
       "    <tr>\n",
       "      <th>4</th>\n",
       "      <td>0</td>\n",
       "      <td>4</td>\n",
       "      <td>1.491043</td>\n",
       "    </tr>\n",
       "  </tbody>\n",
       "</table>\n",
       "</div>"
      ],
      "text/plain": [
       "   user_id  item_id    rating\n",
       "0        0        0  1.427819\n",
       "1        0        1  4.928346\n",
       "2        0        2  1.040042\n",
       "3        0        3  1.356164\n",
       "4        0        4  1.491043"
      ]
     },
     "execution_count": 8,
     "metadata": {},
     "output_type": "execute_result"
    }
   ],
   "source": [
    "df[\"rating\"].replace(99, np.nan, inplace=True)\n",
    "df.dropna(inplace=True)\n",
    "\n",
    "ratings = []\n",
    "for _, group_df in df.groupby(\"user_id\"):\n",
    "    scaled_ratings = MinMaxScaler(feature_range=(1, 5)).fit_transform(group_df[\"rating\"].values.reshape(-1, 1))\n",
    "    ratings_per_user_df = group_df.copy()\n",
    "    ratings_per_user_df[\"rating\"] = scaled_ratings\n",
    "    ratings.extend(ratings_per_user_df.to_records(index=False).tolist())\n",
    "    \n",
    "ratings_df = pd.DataFrame.from_records(ratings, columns=[\"user_id\", \"item_id\", \"rating\"])\n",
    "ratings_df.head()"
   ]
  },
  {
   "cell_type": "markdown",
   "metadata": {},
   "source": [
    "# Save Datasets"
   ]
  },
  {
   "cell_type": "code",
   "execution_count": 9,
   "metadata": {},
   "outputs": [],
   "source": [
    "n = len(ratings_df)\n",
    "n_val = int(np.ceil(n * 0.1))\n",
    "n_test = n_val\n",
    "n_train = n - n_val - n_test\n",
    "\n",
    "train_df, valtest_df = train_test_split(ratings_df, test_size=n_val+n_test)\n",
    "val_df, test_df = train_test_split(valtest_df, test_size=n_test)\n",
    "\n",
    "train_df.to_csv(\"../jester.train.rating\", sep=\"\\t\", index=False, header=False)\n",
    "val_df.to_csv(\"../jester.valid.rating\", sep=\"\\t\", index=False, header=False)\n",
    "test_df.to_csv(\"../jester.test.rating\", sep=\"\\t\", index=False, header=False)\n",
    "\n",
    "pd.DataFrame(ratings_df[\"user_id\"].unique()).to_csv(\"../jester.userlist\", index=False, header=None)\n",
    "pd.DataFrame(ratings_df[\"item_id\"].unique()).to_csv(\"../jester.itemlist\", index=False, header=None)"
   ]
  },
  {
   "cell_type": "code",
   "execution_count": 16,
   "metadata": {},
   "outputs": [
    {
     "name": "stdout",
     "output_type": "stream",
     "text": [
      "[Jester] number of users: 4136360, avg. number of ratings per user: 56.337560\n"
     ]
    }
   ],
   "source": [
    "print(\"[Jester] number of users: %d, avg. number of ratings per user: %f\" % (n, ratings_df.groupby(\"user_id\").size().mean()))"
   ]
  },
  {
   "cell_type": "code",
   "execution_count": null,
   "metadata": {},
   "outputs": [],
   "source": []
  }
 ],
 "metadata": {
  "kernelspec": {
   "display_name": "Python 3",
   "language": "python",
   "name": "python3"
  },
  "language_info": {
   "codemirror_mode": {
    "name": "ipython",
    "version": 3
   },
   "file_extension": ".py",
   "mimetype": "text/x-python",
   "name": "python",
   "nbconvert_exporter": "python",
   "pygments_lexer": "ipython3",
   "version": "3.7.3"
  }
 },
 "nbformat": 4,
 "nbformat_minor": 4
}
